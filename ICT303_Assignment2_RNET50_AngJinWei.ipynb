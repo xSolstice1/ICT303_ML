{
  "cells": [
    {
      "cell_type": "code",
      "execution_count": 14,
      "metadata": {
        "id": "sXbToT6cwNKV"
      },
      "outputs": [
        {
          "name": "stderr",
          "output_type": "stream",
          "text": [
            "Epoch 1/40: 100%|██████████| 157/157 [02:24<00:00,  1.09it/s, loss=5.64]\n"
          ]
        },
        {
          "name": "stdout",
          "output_type": "stream",
          "text": [
            "Epoch 1/40, Training Loss: 4.6790\n",
            "Validation Loss: 0.4496\n"
          ]
        },
        {
          "name": "stderr",
          "output_type": "stream",
          "text": [
            "Epoch 2/40: 100%|██████████| 157/157 [02:25<00:00,  1.08it/s, loss=5.45]\n"
          ]
        },
        {
          "name": "stdout",
          "output_type": "stream",
          "text": [
            "Epoch 2/40, Training Loss: 4.5190\n",
            "Validation Loss: 0.4201\n"
          ]
        },
        {
          "name": "stderr",
          "output_type": "stream",
          "text": [
            "Epoch 3/40: 100%|██████████| 157/157 [03:17<00:00,  1.26s/it, loss=5.21]\n"
          ]
        },
        {
          "name": "stdout",
          "output_type": "stream",
          "text": [
            "Epoch 3/40, Training Loss: 4.3225\n",
            "Validation Loss: 0.3744\n"
          ]
        },
        {
          "name": "stderr",
          "output_type": "stream",
          "text": [
            "Epoch 4/40: 100%|██████████| 157/157 [03:29<00:00,  1.34s/it, loss=4.92]\n"
          ]
        },
        {
          "name": "stdout",
          "output_type": "stream",
          "text": [
            "Epoch 4/40, Training Loss: 4.0777\n",
            "Validation Loss: 0.3269\n"
          ]
        },
        {
          "name": "stderr",
          "output_type": "stream",
          "text": [
            "Epoch 5/40: 100%|██████████| 157/157 [02:38<00:00,  1.01s/it, loss=4.6] \n"
          ]
        },
        {
          "name": "stdout",
          "output_type": "stream",
          "text": [
            "Epoch 5/40, Training Loss: 3.8112\n",
            "Validation Loss: 0.2840\n"
          ]
        },
        {
          "name": "stderr",
          "output_type": "stream",
          "text": [
            "Epoch 6/40: 100%|██████████| 157/157 [02:22<00:00,  1.10it/s, loss=4.29]\n"
          ]
        },
        {
          "name": "stdout",
          "output_type": "stream",
          "text": [
            "Epoch 6/40, Training Loss: 3.5569\n",
            "Validation Loss: 0.2436\n"
          ]
        },
        {
          "name": "stderr",
          "output_type": "stream",
          "text": [
            "Epoch 7/40: 100%|██████████| 157/157 [02:23<00:00,  1.10it/s, loss=4]   \n"
          ]
        },
        {
          "name": "stdout",
          "output_type": "stream",
          "text": [
            "Epoch 7/40, Training Loss: 3.3207\n",
            "Validation Loss: 0.2151\n"
          ]
        },
        {
          "name": "stderr",
          "output_type": "stream",
          "text": [
            "Epoch 8/40: 100%|██████████| 157/157 [02:19<00:00,  1.13it/s, loss=3.74]\n"
          ]
        },
        {
          "name": "stdout",
          "output_type": "stream",
          "text": [
            "Epoch 8/40, Training Loss: 3.0998\n",
            "Validation Loss: 0.1873\n"
          ]
        },
        {
          "name": "stderr",
          "output_type": "stream",
          "text": [
            "Epoch 9/40: 100%|██████████| 157/157 [02:21<00:00,  1.11it/s, loss=3.53]\n"
          ]
        },
        {
          "name": "stdout",
          "output_type": "stream",
          "text": [
            "Epoch 9/40, Training Loss: 2.9294\n",
            "Validation Loss: 0.1660\n"
          ]
        },
        {
          "name": "stderr",
          "output_type": "stream",
          "text": [
            "Epoch 10/40: 100%|██████████| 157/157 [02:29<00:00,  1.05it/s, loss=3.35]\n"
          ]
        },
        {
          "name": "stdout",
          "output_type": "stream",
          "text": [
            "Epoch 10/40, Training Loss: 2.7755\n",
            "Validation Loss: 0.1511\n"
          ]
        },
        {
          "name": "stderr",
          "output_type": "stream",
          "text": [
            "Epoch 11/40: 100%|██████████| 157/157 [02:25<00:00,  1.08it/s, loss=3.18]\n"
          ]
        },
        {
          "name": "stdout",
          "output_type": "stream",
          "text": [
            "Epoch 11/40, Training Loss: 2.6373\n",
            "Validation Loss: 0.1373\n"
          ]
        },
        {
          "name": "stderr",
          "output_type": "stream",
          "text": [
            "Epoch 12/40: 100%|██████████| 157/157 [02:26<00:00,  1.07it/s, loss=3.06]\n"
          ]
        },
        {
          "name": "stdout",
          "output_type": "stream",
          "text": [
            "Epoch 12/40, Training Loss: 2.5386\n",
            "Validation Loss: 0.1275\n"
          ]
        },
        {
          "name": "stderr",
          "output_type": "stream",
          "text": [
            "Epoch 13/40: 100%|██████████| 157/157 [02:25<00:00,  1.08it/s, loss=2.92]\n"
          ]
        },
        {
          "name": "stdout",
          "output_type": "stream",
          "text": [
            "Epoch 13/40, Training Loss: 2.4210\n",
            "Validation Loss: 0.1212\n"
          ]
        },
        {
          "name": "stderr",
          "output_type": "stream",
          "text": [
            "Epoch 14/40: 100%|██████████| 157/157 [02:23<00:00,  1.09it/s, loss=2.83]\n"
          ]
        },
        {
          "name": "stdout",
          "output_type": "stream",
          "text": [
            "Epoch 14/40, Training Loss: 2.3450\n",
            "Validation Loss: 0.1125\n"
          ]
        },
        {
          "name": "stderr",
          "output_type": "stream",
          "text": [
            "Epoch 15/40: 100%|██████████| 157/157 [02:07<00:00,  1.23it/s, loss=2.7] \n"
          ]
        },
        {
          "name": "stdout",
          "output_type": "stream",
          "text": [
            "Epoch 15/40, Training Loss: 2.2422\n",
            "Validation Loss: 0.1069\n"
          ]
        },
        {
          "name": "stderr",
          "output_type": "stream",
          "text": [
            "Epoch 16/40: 100%|██████████| 157/157 [02:07<00:00,  1.23it/s, loss=2.66]\n"
          ]
        },
        {
          "name": "stdout",
          "output_type": "stream",
          "text": [
            "Epoch 16/40, Training Loss: 2.2039\n",
            "Validation Loss: 0.1016\n"
          ]
        },
        {
          "name": "stderr",
          "output_type": "stream",
          "text": [
            "Epoch 17/40: 100%|██████████| 157/157 [02:30<00:00,  1.04it/s, loss=2.57]\n"
          ]
        },
        {
          "name": "stdout",
          "output_type": "stream",
          "text": [
            "Epoch 17/40, Training Loss: 2.1301\n",
            "Validation Loss: 0.0977\n"
          ]
        },
        {
          "name": "stderr",
          "output_type": "stream",
          "text": [
            "Epoch 18/40: 100%|██████████| 157/157 [02:29<00:00,  1.05it/s, loss=2.51]\n"
          ]
        },
        {
          "name": "stdout",
          "output_type": "stream",
          "text": [
            "Epoch 18/40, Training Loss: 2.0803\n",
            "Validation Loss: 0.0942\n"
          ]
        },
        {
          "name": "stderr",
          "output_type": "stream",
          "text": [
            "Epoch 19/40: 100%|██████████| 157/157 [02:26<00:00,  1.07it/s, loss=2.45]\n"
          ]
        },
        {
          "name": "stdout",
          "output_type": "stream",
          "text": [
            "Epoch 19/40, Training Loss: 2.0355\n",
            "Validation Loss: 0.0901\n"
          ]
        },
        {
          "name": "stderr",
          "output_type": "stream",
          "text": [
            "Epoch 20/40: 100%|██████████| 157/157 [02:28<00:00,  1.06it/s, loss=2.39]\n"
          ]
        },
        {
          "name": "stdout",
          "output_type": "stream",
          "text": [
            "Epoch 20/40, Training Loss: 1.9833\n",
            "Validation Loss: 0.0857\n"
          ]
        },
        {
          "name": "stderr",
          "output_type": "stream",
          "text": [
            "Epoch 21/40: 100%|██████████| 157/157 [02:26<00:00,  1.07it/s, loss=2.35]\n"
          ]
        },
        {
          "name": "stdout",
          "output_type": "stream",
          "text": [
            "Epoch 21/40, Training Loss: 1.9516\n",
            "Validation Loss: 0.0853\n"
          ]
        },
        {
          "name": "stderr",
          "output_type": "stream",
          "text": [
            "Epoch 22/40: 100%|██████████| 157/157 [02:26<00:00,  1.07it/s, loss=2.3] \n"
          ]
        },
        {
          "name": "stdout",
          "output_type": "stream",
          "text": [
            "Epoch 22/40, Training Loss: 1.9076\n",
            "Validation Loss: 0.0822\n"
          ]
        },
        {
          "name": "stderr",
          "output_type": "stream",
          "text": [
            "Epoch 23/40: 100%|██████████| 157/157 [02:24<00:00,  1.08it/s, loss=2.27]\n"
          ]
        },
        {
          "name": "stdout",
          "output_type": "stream",
          "text": [
            "Epoch 23/40, Training Loss: 1.8824\n",
            "Validation Loss: 0.0787\n"
          ]
        },
        {
          "name": "stderr",
          "output_type": "stream",
          "text": [
            "Epoch 24/40: 100%|██████████| 157/157 [02:30<00:00,  1.05it/s, loss=2.23]\n"
          ]
        },
        {
          "name": "stdout",
          "output_type": "stream",
          "text": [
            "Epoch 24/40, Training Loss: 1.8476\n",
            "Validation Loss: 0.0777\n"
          ]
        },
        {
          "name": "stderr",
          "output_type": "stream",
          "text": [
            "Epoch 25/40: 100%|██████████| 157/157 [02:23<00:00,  1.09it/s, loss=2.19]\n"
          ]
        },
        {
          "name": "stdout",
          "output_type": "stream",
          "text": [
            "Epoch 25/40, Training Loss: 1.8156\n",
            "Validation Loss: 0.0750\n"
          ]
        },
        {
          "name": "stderr",
          "output_type": "stream",
          "text": [
            "Epoch 26/40: 100%|██████████| 157/157 [02:40<00:00,  1.02s/it, loss=2.16]\n"
          ]
        },
        {
          "name": "stdout",
          "output_type": "stream",
          "text": [
            "Epoch 26/40, Training Loss: 1.7888\n",
            "Validation Loss: 0.0715\n"
          ]
        },
        {
          "name": "stderr",
          "output_type": "stream",
          "text": [
            "Epoch 27/40: 100%|██████████| 157/157 [02:27<00:00,  1.06it/s, loss=2.12]\n"
          ]
        },
        {
          "name": "stdout",
          "output_type": "stream",
          "text": [
            "Epoch 27/40, Training Loss: 1.7548\n",
            "Validation Loss: 0.0701\n"
          ]
        },
        {
          "name": "stderr",
          "output_type": "stream",
          "text": [
            "Epoch 28/40: 100%|██████████| 157/157 [02:28<00:00,  1.05it/s, loss=2.09]\n"
          ]
        },
        {
          "name": "stdout",
          "output_type": "stream",
          "text": [
            "Epoch 28/40, Training Loss: 1.7354\n",
            "Validation Loss: 0.0689\n"
          ]
        },
        {
          "name": "stderr",
          "output_type": "stream",
          "text": [
            "Epoch 29/40: 100%|██████████| 157/157 [02:26<00:00,  1.07it/s, loss=2.06]\n"
          ]
        },
        {
          "name": "stdout",
          "output_type": "stream",
          "text": [
            "Epoch 29/40, Training Loss: 1.7100\n",
            "Validation Loss: 0.0691\n"
          ]
        },
        {
          "name": "stderr",
          "output_type": "stream",
          "text": [
            "Epoch 30/40: 100%|██████████| 157/157 [02:28<00:00,  1.06it/s, loss=2.03]\n"
          ]
        },
        {
          "name": "stdout",
          "output_type": "stream",
          "text": [
            "Epoch 30/40, Training Loss: 1.6819\n",
            "Validation Loss: 0.0678\n"
          ]
        },
        {
          "name": "stderr",
          "output_type": "stream",
          "text": [
            "Epoch 31/40: 100%|██████████| 157/157 [02:22<00:00,  1.10it/s, loss=2.01]\n"
          ]
        },
        {
          "name": "stdout",
          "output_type": "stream",
          "text": [
            "Epoch 31/40, Training Loss: 1.6636\n",
            "Validation Loss: 0.0668\n"
          ]
        },
        {
          "name": "stderr",
          "output_type": "stream",
          "text": [
            "Epoch 32/40: 100%|██████████| 157/157 [02:28<00:00,  1.05it/s, loss=1.97]\n"
          ]
        },
        {
          "name": "stdout",
          "output_type": "stream",
          "text": [
            "Epoch 32/40, Training Loss: 1.6330\n",
            "Validation Loss: 0.0645\n"
          ]
        },
        {
          "name": "stderr",
          "output_type": "stream",
          "text": [
            "Epoch 33/40: 100%|██████████| 157/157 [02:25<00:00,  1.08it/s, loss=1.98]\n"
          ]
        },
        {
          "name": "stdout",
          "output_type": "stream",
          "text": [
            "Epoch 33/40, Training Loss: 1.6412\n",
            "Validation Loss: 0.0638\n"
          ]
        },
        {
          "name": "stderr",
          "output_type": "stream",
          "text": [
            "Epoch 34/40: 100%|██████████| 157/157 [02:22<00:00,  1.10it/s, loss=1.95]\n"
          ]
        },
        {
          "name": "stdout",
          "output_type": "stream",
          "text": [
            "Epoch 34/40, Training Loss: 1.6184\n",
            "Validation Loss: 0.0618\n"
          ]
        },
        {
          "name": "stderr",
          "output_type": "stream",
          "text": [
            "Epoch 35/40: 100%|██████████| 157/157 [02:20<00:00,  1.12it/s, loss=1.93]\n"
          ]
        },
        {
          "name": "stdout",
          "output_type": "stream",
          "text": [
            "Epoch 35/40, Training Loss: 1.5997\n",
            "Validation Loss: 0.0624\n"
          ]
        },
        {
          "name": "stderr",
          "output_type": "stream",
          "text": [
            "Epoch 36/40: 100%|██████████| 157/157 [02:21<00:00,  1.11it/s, loss=1.89]\n"
          ]
        },
        {
          "name": "stdout",
          "output_type": "stream",
          "text": [
            "Epoch 36/40, Training Loss: 1.5651\n",
            "Validation Loss: 0.0620\n"
          ]
        },
        {
          "name": "stderr",
          "output_type": "stream",
          "text": [
            "Epoch 37/40: 100%|██████████| 157/157 [02:11<00:00,  1.20it/s, loss=1.89]\n"
          ]
        },
        {
          "name": "stdout",
          "output_type": "stream",
          "text": [
            "Epoch 37/40, Training Loss: 1.5714\n",
            "Validation Loss: 0.0621\n"
          ]
        },
        {
          "name": "stderr",
          "output_type": "stream",
          "text": [
            "Epoch 38/40: 100%|██████████| 157/157 [02:11<00:00,  1.20it/s, loss=1.88]\n"
          ]
        },
        {
          "name": "stdout",
          "output_type": "stream",
          "text": [
            "Epoch 38/40, Training Loss: 1.5554\n",
            "Validation Loss: 0.0599\n"
          ]
        },
        {
          "name": "stderr",
          "output_type": "stream",
          "text": [
            "Epoch 39/40: 100%|██████████| 157/157 [02:16<00:00,  1.15it/s, loss=1.86]\n"
          ]
        },
        {
          "name": "stdout",
          "output_type": "stream",
          "text": [
            "Epoch 39/40, Training Loss: 1.5414\n",
            "Validation Loss: 0.0579\n"
          ]
        },
        {
          "name": "stderr",
          "output_type": "stream",
          "text": [
            "Epoch 40/40: 100%|██████████| 157/157 [02:23<00:00,  1.09it/s, loss=1.83]\n"
          ]
        },
        {
          "name": "stdout",
          "output_type": "stream",
          "text": [
            "Epoch 40/40, Training Loss: 1.5163\n",
            "Validation Loss: 0.0569\n",
            "Trained model saved to C:/Users/xsols/OneDrive/Documents/303/Assignment1\\trained_model.pth\n",
            "Sample predictions saved to C:/Users/xsols/OneDrive/Documents/303/Assignment1\\sample_predictions.csv\n"
          ]
        },
        {
          "data": {
            "image/png": "[encoded data removed]",
            "text/plain": [
              "<Figure size 1000x500 with 1 Axes>"
            ]
          },
          "metadata": {},
          "output_type": "display_data"
        }
      ],
      "source": [
        "import os\n",
        "import torch\n",
        "import csv\n",
        "import torch.nn as nn\n",
        "import torchvision.models as models\n",
        "import torch.optim as optim\n",
        "from torch.utils.tensorboard import SummaryWriter\n",
        "from torchvision import datasets, transforms\n",
        "from torch.utils.data import DataLoader, SubsetRandomSampler\n",
        "from PIL import Image\n",
        "from tqdm import tqdm\n",
        "import random\n",
        "import matplotlib.pyplot as plt\n",
        "\n",
        "# Define the path to the dataset directory\n",
        "dataset_path = 'C:/Users/xsols/OneDrive/Documents/303/Assignment1'\n",
        "\n",
        "# Initialize TensorBoard writer\n",
        "writer = SummaryWriter(log_dir=os.path.join(dataset_path, 'logs'))\n",
        "\n",
        "# Define data transformations for training and validation sets\n",
        "train_transform = transforms.Compose([\n",
        "    transforms.RandomResizedCrop(224),\n",
        "    transforms.RandomHorizontalFlip(),\n",
        "    transforms.ColorJitter(brightness=0.2, contrast=0.2, saturation=0.2, hue=0.1),\n",
        "    transforms.RandomRotation(20),\n",
        "    transforms.RandomVerticalFlip(),  # Add vertical flip augmentation\n",
        "    transforms.RandomAffine(degrees=0, translate=(0.1, 0.1)),  # Add affine transformation\n",
        "    transforms.ToTensor(),\n",
        "    transforms.Normalize(mean=[0.485, 0.456, 0.406], std=[0.229, 0.224, 0.225]),\n",
        "])\n",
        "\n",
        "valid_transform = transforms.Compose([\n",
        "    transforms.Resize(224),  # Increase image resolution\n",
        "    transforms.CenterCrop(224),  # Crop center\n",
        "    transforms.ToTensor(),\n",
        "    transforms.Normalize(mean=[0.485, 0.456, 0.406], std=[0.229, 0.224, 0.225]),  # Normalize\n",
        "])\n",
        "\n",
        "# Define batch size and validation ratio\n",
        "batch_size = 64\n",
        "valid_ratio = 0.1\n",
        "sample_per_class = 100  # Number of samples per class to take\n",
        "\n",
        "# Function to load training and validation data\n",
        "def load_data(batch_size, valid_ratio, sample_per_class):\n",
        "    train_dataset = datasets.ImageFolder(root=os.path.join(dataset_path, 'train'), transform=train_transform)\n",
        "    valid_dataset = datasets.ImageFolder(root=os.path.join(dataset_path, 'train'), transform=valid_transform)\n",
        "\n",
        "    # Select a fixed number of samples from each class for training\n",
        "    train_indices = []\n",
        "    for cls in range(len(train_dataset.classes)):\n",
        "        class_indices = [idx for idx, (_, label) in enumerate(train_dataset.imgs) if label == cls]\n",
        "        train_indices.extend(class_indices[:sample_per_class])\n",
        "\n",
        "    train_loader = DataLoader(train_dataset, batch_size=batch_size, sampler=SubsetRandomSampler(train_indices))\n",
        "\n",
        "    # Splitting the remaining dataset into training and validation sets\n",
        "    num_train = len(train_loader.dataset)\n",
        "    split = int(valid_ratio * num_train)\n",
        "    indices = list(range(num_train))\n",
        "    valid_indices = indices[:split]\n",
        "\n",
        "    valid_loader = DataLoader(valid_dataset, batch_size=batch_size, sampler=SubsetRandomSampler(valid_indices))\n",
        "\n",
        "    return train_loader, valid_loader\n",
        "\n",
        "# Define the ResNet model\n",
        "class DogBreedClassifier(nn.Module):\n",
        "    def __init__(self, num_classes):\n",
        "        super(DogBreedClassifier, self).__init__()\n",
        "        self.resnet = models.resnet50(pretrained=True)\n",
        "        num_ftrs = self.resnet.fc.in_features\n",
        "        self.resnet.fc = nn.Linear(num_ftrs, num_classes)\n",
        "\n",
        "    def forward(self, x):\n",
        "        return self.resnet(x)\n",
        "\n",
        "# Training class\n",
        "class Trainer:\n",
        "    def __init__(self, model, train_loader, valid_loader, lr=0.003, epochs=30):\n",
        "        self.model = model\n",
        "        self.train_loader = train_loader\n",
        "        self.valid_loader = valid_loader\n",
        "        self.lr = lr\n",
        "        self.epochs = epochs\n",
        "        self.criterion = nn.CrossEntropyLoss()\n",
        "        self.optimizer = optim.SGD(self.model.parameters(), lr=self.lr, momentum=0.9, weight_decay=1e-5)\n",
        "        #self.scheduler = optim.lr_scheduler.StepLR(self.optimizer, step_size=7, gamma=0.1)\n",
        "\n",
        "        # Lists to store training and validation losses\n",
        "        self.train_losses = []\n",
        "        self.valid_losses = []\n",
        "\n",
        "    def train(self):\n",
        "        for epoch in range(self.epochs):\n",
        "            self.model.train()\n",
        "            running_loss = 0.0\n",
        "            max_grad_norm = 1.0\n",
        "\n",
        "            progress_bar = tqdm(enumerate(self.train_loader), total=len(self.train_loader))\n",
        "            for batch_idx, (inputs, labels) in progress_bar:\n",
        "                inputs, labels = inputs.to(device), labels.to(device)\n",
        "\n",
        "                self.optimizer.zero_grad()\n",
        "\n",
        "                outputs = self.model(inputs)\n",
        "                loss = self.criterion(outputs, labels)\n",
        "                loss.backward()\n",
        "                torch.nn.utils.clip_grad_norm_(self.model.parameters(), max_grad_norm)\n",
        "                self.optimizer.step()\n",
        "\n",
        "                running_loss += loss.item() * inputs.size(0)\n",
        "\n",
        "                # Update learning rate\n",
        "                #lr = self.scheduler.get_last_lr()[0]\n",
        "\n",
        "                # Update progress bar\n",
        "                progress_bar.set_description(f'Epoch {epoch+1}/{self.epochs}')\n",
        "                progress_bar.set_postfix(loss=running_loss / ((batch_idx + 1) * inputs.size(0)))\n",
        "\n",
        "            epoch_loss = running_loss / len(self.train_loader.dataset)\n",
        "            self.train_losses.append(epoch_loss)\n",
        "            writer.add_scalar('Training Loss', epoch_loss, epoch)\n",
        "\n",
        "            print(f\"Epoch {epoch+1}/{self.epochs}, Training Loss: {epoch_loss:.4f}\")\n",
        "\n",
        "            valid_loss = self.validate()\n",
        "            self.valid_losses.append(valid_loss)\n",
        "            writer.add_scalar('Validation Loss', valid_loss, epoch)\n",
        "\n",
        "            print(f\"Validation Loss: {valid_loss:.4f}\")\n",
        "\n",
        "            #self.scheduler.step()\n",
        "\n",
        "    def validate(self):\n",
        "        self.model.eval()\n",
        "        running_loss = 0.0\n",
        "\n",
        "        with torch.no_grad():\n",
        "            for inputs, labels in self.valid_loader:\n",
        "                inputs, labels = inputs.to(device), labels.to(device)\n",
        "\n",
        "                outputs = self.model(inputs)\n",
        "                loss = self.criterion(outputs, labels)\n",
        "                running_loss += loss.item() * inputs.size(0)\n",
        "\n",
        "            return running_loss / len(self.valid_loader.dataset)\n",
        "\n",
        "# Set device\n",
        "device = torch.device(\"cuda\" if torch.cuda.is_available() else \"cpu\")\n",
        "\n",
        "# Load data\n",
        "train_loader, valid_loader = load_data(batch_size, valid_ratio, sample_per_class)\n",
        "\n",
        "# Number of dog breeds\n",
        "num_classes = 120\n",
        "\n",
        "# Instantiate the model\n",
        "model = DogBreedClassifier(num_classes)\n",
        "model = model.to(device)\n",
        "\n",
        "# Instantiate the trainer\n",
        "trainer = Trainer(model, train_loader, valid_loader, lr=0.001, epochs=40)  # Increase epochs\n",
        "\n",
        "# Train the model\n",
        "trainer.train()\n",
        "\n",
        "# Plot training and validation loss curves\n",
        "plt.figure(figsize=(10, 5))\n",
        "plt.plot(range(1, len(trainer.train_losses) + 1), trainer.train_losses, label='Training Loss')\n",
        "plt.plot(range(1, len(trainer.valid_losses) + 1), trainer.valid_losses, label='Validation Loss')\n",
        "plt.xlabel('Epochs')\n",
        "plt.ylabel('Loss')\n",
        "plt.title('Training and Validation Loss Curves')\n",
        "plt.legend()\n",
        "plt.grid(True)\n",
        "#plt.show()\n",
        "\n",
        "# Close TensorBoard writer\n",
        "writer.close()\n",
        "\n",
        "# Save the trained model\n",
        "save_path = os.path.join(dataset_path, 'trained_model.pth')\n",
        "torch.save(model.state_dict(), save_path)\n",
        "print(f\"Trained model saved to {save_path}\")\n",
        "\n",
        "# Load the trained model\n",
        "model = DogBreedClassifier(num_classes)\n",
        "model.load_state_dict(torch.load(save_path))\n",
        "model = model.to(device)\n",
        "model.eval()\n",
        "\n",
        "# Path to the test folder\n",
        "test_folder = os.path.join(dataset_path, 'test')\n",
        "# Get list of image files in the test folder\n",
        "image_files = [file for file in os.listdir(test_folder) if file.endswith(('jpg', 'jpeg', 'png'))]\n",
        "\n",
        "# Define the number of images to sample\n",
        "#num_samples = 10357\n",
        "# Randomly sample from the list of image files\n",
        "#sample_image_files = random.sample(image_files, num_samples)\n",
        "\n",
        "# Make predictions for each sampled image\n",
        "predictions = []\n",
        "for image_file in image_files:\n",
        "    # Load and preprocess the image\n",
        "    image_path = os.path.join(test_folder, image_file)\n",
        "    image = Image.open(image_path).convert('RGB')\n",
        "    image = valid_transform(image).unsqueeze(0).to(device)  # Use validation transform for test images\n",
        "\n",
        "    # Make prediction\n",
        "    with torch.no_grad():\n",
        "        output = model(image)\n",
        "        probabilities = torch.softmax(output, dim=1).squeeze().cpu().numpy()\n",
        "        predictions.append(probabilities)\n",
        "\n",
        "# Define the list of dog breed names\n",
        "breed_names = [\n",
        "    \"affenpinscher\", \"afghan_hound\", \"african_hunting_dog\", \"airedale\", \"american_staffordshire_terrier\",\n",
        "    \"appenzeller\", \"australian_terrier\", \"basenji\", \"basset\", \"beagle\", \"bedlington_terrier\", \"bernese_mountain_dog\",\n",
        "    \"black-and-tan_coonhound\", \"blenheim_spaniel\", \"bloodhound\", \"bluetick\", \"border_collie\", \"border_terrier\",\n",
        "    \"borzoi\", \"boston_bull\", \"bouvier_des_flandres\", \"boxer\", \"brabancon_griffon\", \"briard\", \"brittany_spaniel\",\n",
        "    \"bull_mastiff\", \"cairn\", \"cardigan\", \"chesapeake_bay_retriever\", \"chihuahua\", \"chow\", \"clumber\", \"cocker_spaniel\",\n",
        "    \"collie\", \"curly-coated_retriever\", \"dandie_dinmont\", \"dhole\", \"dingo\", \"doberman\", \"english_foxhound\",\n",
        "    \"english_setter\", \"english_springer\", \"entlebucher\", \"eskimo_dog\", \"flat-coated_retriever\", \"french_bulldog\",\n",
        "    \"german_shepherd\", \"german_short-haired_pointer\", \"giant_schnauzer\", \"golden_retriever\", \"gordon_setter\",\n",
        "    \"great_dane\", \"great_pyrenees\", \"greater_swiss_mountain_dog\", \"groenendael\", \"ibizan_hound\", \"irish_setter\",\n",
        "    \"irish_terrier\", \"irish_water_spaniel\", \"irish_wolfhound\", \"italian_greyhound\", \"japanese_spaniel\", \"keeshond\",\n",
        "    \"kelpie\", \"kerry_blue_terrier\", \"komondor\", \"kuvasz\", \"labrador_retriever\", \"lakeland_terrier\", \"leonberg\",\n",
        "    \"lhasa\", \"malamute\", \"malinois\", \"maltese_dog\", \"mexican_hairless\", \"miniature_pinscher\", \"miniature_poodle\",\n",
        "    \"miniature_schnauzer\", \"newfoundland\", \"norfolk_terrier\", \"norwegian_elkhound\", \"norwich_terrier\",\n",
        "    \"old_english_sheepdog\", \"otterhound\", \"papillon\", \"pekinese\", \"pembroke\", \"pomeranian\", \"pug\", \"redbone\",\n",
        "    \"rhodesian_ridgeback\", \"rottweiler\", \"saint_bernard\", \"saluki\", \"samoyed\", \"schipperke\", \"scotch_terrier\",\n",
        "    \"scottish_deerhound\", \"sealyham_terrier\", \"shetland_sheepdog\", \"shih-tzu\", \"siberian_husky\", \"silky_terrier\",\n",
        "    \"soft-coated_wheaten_terrier\", \"staffordshire_bullterrier\", \"standard_poodle\", \"standard_schnauzer\",\n",
        "    \"sussex_spaniel\", \"tibetan_mastiff\", \"tibetan_terrier\", \"toy_poodle\", \"toy_terrier\", \"vizsla\", \"walker_hound\",\n",
        "    \"weimaraner\", \"welsh_springer_spaniel\", \"west_highland_white_terrier\", \"whippet\", \"wire-haired_fox_terrier\",\n",
        "    \"yorkshire_terrier\"\n",
        "]\n",
        "\n",
        "# Save predictions to CSV file\n",
        "output_file = os.path.join(dataset_path, 'sample_predictions.csv')\n",
        "with open(output_file, 'w', newline='') as csvfile:\n",
        "    writer = csv.writer(csvfile)\n",
        "    header = ['id'] + breed_names\n",
        "    writer.writerow(header)\n",
        "    for idx, image_file in enumerate(image_files):\n",
        "        image_id = os.path.splitext(image_file)[0]\n",
        "        row = [image_id] + predictions[idx].tolist()\n",
        "        writer.writerow(row)\n",
        "\n",
        "print(f\"Sample predictions saved to {output_file}\")"
      ]
    }
  ],
  "metadata": {
    "colab": {
      "provenance": []
    },
    "kernelspec": {
      "display_name": "Python 3",
      "name": "python3"
    },
    "language_info": {
      "codemirror_mode": {
        "name": "ipython",
        "version": 3
      },
      "file_extension": ".py",
      "mimetype": "text/x-python",
      "name": "python",
      "nbconvert_exporter": "python",
      "pygments_lexer": "ipython3",
      "version": "3.12.2"
    }
  },
  "nbformat": 4,
  "nbformat_minor": 0
}
