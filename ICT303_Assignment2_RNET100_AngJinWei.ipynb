{
  "cells": [
    {
      "cell_type": "code",
      "execution_count": 1,
      "metadata": {
        "id": "sXbToT6cwNKV"
      },
      "outputs": [
        {
          "name": "stderr",
          "output_type": "stream",
          "text": [
            "c:\\Users\\xsols\\AppData\\Local\\Programs\\Python\\Python312\\Lib\\site-packages\\torchvision\\models\\_utils.py:208: UserWarning: The parameter 'pretrained' is deprecated since 0.13 and may be removed in the future, please use 'weights' instead.\n",
            "  warnings.warn(\n",
            "c:\\Users\\xsols\\AppData\\Local\\Programs\\Python\\Python312\\Lib\\site-packages\\torchvision\\models\\_utils.py:223: UserWarning: Arguments other than a weight enum or `None` for 'weights' are deprecated since 0.13 and may be removed in the future. The current behavior is equivalent to passing `weights=ResNet101_Weights.IMAGENET1K_V1`. You can also use `weights=ResNet101_Weights.DEFAULT` to get the most up-to-date weights.\n",
            "  warnings.warn(msg)\n",
            "Epoch 1/40: 100%|██████████| 157/157 [04:08<00:00,  1.58s/it, loss=5.65]\n"
          ]
        },
        {
          "name": "stdout",
          "output_type": "stream",
          "text": [
            "Epoch 1/40, Training Loss: 4.6821\n",
            "Validation Loss: 0.4622\n"
          ]
        },
        {
          "name": "stderr",
          "output_type": "stream",
          "text": [
            "Epoch 2/40: 100%|██████████| 157/157 [03:17<00:00,  1.26s/it, loss=5.44]\n"
          ]
        },
        {
          "name": "stdout",
          "output_type": "stream",
          "text": [
            "Epoch 2/40, Training Loss: 4.5118\n",
            "Validation Loss: 0.4248\n"
          ]
        },
        {
          "name": "stderr",
          "output_type": "stream",
          "text": [
            "Epoch 3/40: 100%|██████████| 157/157 [03:13<00:00,  1.23s/it, loss=5.19]\n"
          ]
        },
        {
          "name": "stdout",
          "output_type": "stream",
          "text": [
            "Epoch 3/40, Training Loss: 4.3008\n",
            "Validation Loss: 0.3793\n"
          ]
        },
        {
          "name": "stderr",
          "output_type": "stream",
          "text": [
            "Epoch 4/40: 100%|██████████| 157/157 [03:59<00:00,  1.53s/it, loss=4.88]\n"
          ]
        },
        {
          "name": "stdout",
          "output_type": "stream",
          "text": [
            "Epoch 4/40, Training Loss: 4.0473\n",
            "Validation Loss: 0.3266\n"
          ]
        },
        {
          "name": "stderr",
          "output_type": "stream",
          "text": [
            "Epoch 5/40: 100%|██████████| 157/157 [04:09<00:00,  1.59s/it, loss=4.54]\n"
          ]
        },
        {
          "name": "stdout",
          "output_type": "stream",
          "text": [
            "Epoch 5/40, Training Loss: 3.7619\n",
            "Validation Loss: 0.2845\n"
          ]
        },
        {
          "name": "stderr",
          "output_type": "stream",
          "text": [
            "Epoch 6/40: 100%|██████████| 157/157 [04:11<00:00,  1.60s/it, loss=4.21]\n"
          ]
        },
        {
          "name": "stdout",
          "output_type": "stream",
          "text": [
            "Epoch 6/40, Training Loss: 3.4902\n",
            "Validation Loss: 0.2392\n"
          ]
        },
        {
          "name": "stderr",
          "output_type": "stream",
          "text": [
            "Epoch 7/40: 100%|██████████| 157/157 [04:10<00:00,  1.60s/it, loss=3.9] \n"
          ]
        },
        {
          "name": "stdout",
          "output_type": "stream",
          "text": [
            "Epoch 7/40, Training Loss: 3.2332\n",
            "Validation Loss: 0.2085\n"
          ]
        },
        {
          "name": "stderr",
          "output_type": "stream",
          "text": [
            "Epoch 8/40: 100%|██████████| 157/157 [04:02<00:00,  1.54s/it, loss=3.62]\n"
          ]
        },
        {
          "name": "stdout",
          "output_type": "stream",
          "text": [
            "Epoch 8/40, Training Loss: 3.0058\n",
            "Validation Loss: 0.1825\n"
          ]
        },
        {
          "name": "stderr",
          "output_type": "stream",
          "text": [
            "Epoch 9/40: 100%|██████████| 157/157 [03:09<00:00,  1.20s/it, loss=3.41]\n"
          ]
        },
        {
          "name": "stdout",
          "output_type": "stream",
          "text": [
            "Epoch 9/40, Training Loss: 2.8318\n",
            "Validation Loss: 0.1594\n"
          ]
        },
        {
          "name": "stderr",
          "output_type": "stream",
          "text": [
            "Epoch 10/40: 100%|██████████| 157/157 [03:07<00:00,  1.19s/it, loss=3.2] \n"
          ]
        },
        {
          "name": "stdout",
          "output_type": "stream",
          "text": [
            "Epoch 10/40, Training Loss: 2.6565\n",
            "Validation Loss: 0.1407\n"
          ]
        },
        {
          "name": "stderr",
          "output_type": "stream",
          "text": [
            "Epoch 11/40: 100%|██████████| 157/157 [02:59<00:00,  1.15s/it, loss=3.03]\n"
          ]
        },
        {
          "name": "stdout",
          "output_type": "stream",
          "text": [
            "Epoch 11/40, Training Loss: 2.5153\n",
            "Validation Loss: 0.1267\n"
          ]
        },
        {
          "name": "stderr",
          "output_type": "stream",
          "text": [
            "Epoch 12/40: 100%|██████████| 157/157 [02:56<00:00,  1.13s/it, loss=2.9] \n"
          ]
        },
        {
          "name": "stdout",
          "output_type": "stream",
          "text": [
            "Epoch 12/40, Training Loss: 2.4080\n",
            "Validation Loss: 0.1198\n"
          ]
        },
        {
          "name": "stderr",
          "output_type": "stream",
          "text": [
            "Epoch 13/40: 100%|██████████| 157/157 [02:58<00:00,  1.14s/it, loss=2.78]\n"
          ]
        },
        {
          "name": "stdout",
          "output_type": "stream",
          "text": [
            "Epoch 13/40, Training Loss: 2.3089\n",
            "Validation Loss: 0.1109\n"
          ]
        },
        {
          "name": "stderr",
          "output_type": "stream",
          "text": [
            "Epoch 14/40: 100%|██████████| 157/157 [02:54<00:00,  1.11s/it, loss=2.66]\n"
          ]
        },
        {
          "name": "stdout",
          "output_type": "stream",
          "text": [
            "Epoch 14/40, Training Loss: 2.2036\n",
            "Validation Loss: 0.1041\n"
          ]
        },
        {
          "name": "stderr",
          "output_type": "stream",
          "text": [
            "Epoch 15/40: 100%|██████████| 157/157 [03:00<00:00,  1.15s/it, loss=2.56]\n"
          ]
        },
        {
          "name": "stdout",
          "output_type": "stream",
          "text": [
            "Epoch 15/40, Training Loss: 2.1258\n",
            "Validation Loss: 0.0992\n"
          ]
        },
        {
          "name": "stderr",
          "output_type": "stream",
          "text": [
            "Epoch 16/40: 100%|██████████| 157/157 [03:00<00:00,  1.15s/it, loss=2.49]\n"
          ]
        },
        {
          "name": "stdout",
          "output_type": "stream",
          "text": [
            "Epoch 16/40, Training Loss: 2.0673\n",
            "Validation Loss: 0.0961\n"
          ]
        },
        {
          "name": "stderr",
          "output_type": "stream",
          "text": [
            "Epoch 17/40: 100%|██████████| 157/157 [02:58<00:00,  1.14s/it, loss=2.4] \n"
          ]
        },
        {
          "name": "stdout",
          "output_type": "stream",
          "text": [
            "Epoch 17/40, Training Loss: 1.9925\n",
            "Validation Loss: 0.0898\n"
          ]
        },
        {
          "name": "stderr",
          "output_type": "stream",
          "text": [
            "Epoch 18/40: 100%|██████████| 157/157 [03:00<00:00,  1.15s/it, loss=2.33]\n"
          ]
        },
        {
          "name": "stdout",
          "output_type": "stream",
          "text": [
            "Epoch 18/40, Training Loss: 1.9363\n",
            "Validation Loss: 0.0857\n"
          ]
        },
        {
          "name": "stderr",
          "output_type": "stream",
          "text": [
            "Epoch 19/40: 100%|██████████| 157/157 [03:06<00:00,  1.19s/it, loss=2.3] \n"
          ]
        },
        {
          "name": "stdout",
          "output_type": "stream",
          "text": [
            "Epoch 19/40, Training Loss: 1.9057\n",
            "Validation Loss: 0.0811\n"
          ]
        },
        {
          "name": "stderr",
          "output_type": "stream",
          "text": [
            "Epoch 20/40: 100%|██████████| 157/157 [03:15<00:00,  1.24s/it, loss=2.25]\n"
          ]
        },
        {
          "name": "stdout",
          "output_type": "stream",
          "text": [
            "Epoch 20/40, Training Loss: 1.8663\n",
            "Validation Loss: 0.0808\n"
          ]
        },
        {
          "name": "stderr",
          "output_type": "stream",
          "text": [
            "Epoch 21/40: 100%|██████████| 157/157 [03:07<00:00,  1.19s/it, loss=2.2] \n"
          ]
        },
        {
          "name": "stdout",
          "output_type": "stream",
          "text": [
            "Epoch 21/40, Training Loss: 1.8258\n",
            "Validation Loss: 0.0770\n"
          ]
        },
        {
          "name": "stderr",
          "output_type": "stream",
          "text": [
            "Epoch 22/40: 100%|██████████| 157/157 [03:02<00:00,  1.16s/it, loss=2.13]\n"
          ]
        },
        {
          "name": "stdout",
          "output_type": "stream",
          "text": [
            "Epoch 22/40, Training Loss: 1.7692\n",
            "Validation Loss: 0.0747\n"
          ]
        },
        {
          "name": "stderr",
          "output_type": "stream",
          "text": [
            "Epoch 23/40: 100%|██████████| 157/157 [03:15<00:00,  1.24s/it, loss=2.08]\n"
          ]
        },
        {
          "name": "stdout",
          "output_type": "stream",
          "text": [
            "Epoch 23/40, Training Loss: 1.7280\n",
            "Validation Loss: 0.0732\n"
          ]
        },
        {
          "name": "stderr",
          "output_type": "stream",
          "text": [
            "Epoch 24/40: 100%|██████████| 157/157 [02:54<00:00,  1.11s/it, loss=2.07]\n"
          ]
        },
        {
          "name": "stdout",
          "output_type": "stream",
          "text": [
            "Epoch 24/40, Training Loss: 1.7138\n",
            "Validation Loss: 0.0680\n"
          ]
        },
        {
          "name": "stderr",
          "output_type": "stream",
          "text": [
            "Epoch 25/40: 100%|██████████| 157/157 [02:53<00:00,  1.11s/it, loss=2]   \n"
          ]
        },
        {
          "name": "stdout",
          "output_type": "stream",
          "text": [
            "Epoch 25/40, Training Loss: 1.6627\n",
            "Validation Loss: 0.0670\n"
          ]
        },
        {
          "name": "stderr",
          "output_type": "stream",
          "text": [
            "Epoch 26/40: 100%|██████████| 157/157 [02:53<00:00,  1.11s/it, loss=1.99]\n"
          ]
        },
        {
          "name": "stdout",
          "output_type": "stream",
          "text": [
            "Epoch 26/40, Training Loss: 1.6497\n",
            "Validation Loss: 0.0659\n"
          ]
        },
        {
          "name": "stderr",
          "output_type": "stream",
          "text": [
            "Epoch 27/40: 100%|██████████| 157/157 [02:54<00:00,  1.11s/it, loss=1.97]\n"
          ]
        },
        {
          "name": "stdout",
          "output_type": "stream",
          "text": [
            "Epoch 27/40, Training Loss: 1.6317\n",
            "Validation Loss: 0.0646\n"
          ]
        },
        {
          "name": "stderr",
          "output_type": "stream",
          "text": [
            "Epoch 28/40: 100%|██████████| 157/157 [02:54<00:00,  1.11s/it, loss=1.92]\n"
          ]
        },
        {
          "name": "stdout",
          "output_type": "stream",
          "text": [
            "Epoch 28/40, Training Loss: 1.5953\n",
            "Validation Loss: 0.0623\n"
          ]
        },
        {
          "name": "stderr",
          "output_type": "stream",
          "text": [
            "Epoch 29/40: 100%|██████████| 157/157 [02:55<00:00,  1.12s/it, loss=1.91]\n"
          ]
        },
        {
          "name": "stdout",
          "output_type": "stream",
          "text": [
            "Epoch 29/40, Training Loss: 1.5849\n",
            "Validation Loss: 0.0614\n"
          ]
        },
        {
          "name": "stderr",
          "output_type": "stream",
          "text": [
            "Epoch 30/40: 100%|██████████| 157/157 [02:54<00:00,  1.11s/it, loss=1.88]\n"
          ]
        },
        {
          "name": "stdout",
          "output_type": "stream",
          "text": [
            "Epoch 30/40, Training Loss: 1.5593\n",
            "Validation Loss: 0.0587\n"
          ]
        },
        {
          "name": "stderr",
          "output_type": "stream",
          "text": [
            "Epoch 31/40: 100%|██████████| 157/157 [02:55<00:00,  1.12s/it, loss=1.86]\n"
          ]
        },
        {
          "name": "stdout",
          "output_type": "stream",
          "text": [
            "Epoch 31/40, Training Loss: 1.5420\n",
            "Validation Loss: 0.0592\n"
          ]
        },
        {
          "name": "stderr",
          "output_type": "stream",
          "text": [
            "Epoch 32/40: 100%|██████████| 157/157 [02:54<00:00,  1.11s/it, loss=1.84]\n"
          ]
        },
        {
          "name": "stdout",
          "output_type": "stream",
          "text": [
            "Epoch 32/40, Training Loss: 1.5269\n",
            "Validation Loss: 0.0567\n"
          ]
        },
        {
          "name": "stderr",
          "output_type": "stream",
          "text": [
            "Epoch 33/40: 100%|██████████| 157/157 [02:54<00:00,  1.11s/it, loss=1.81]\n"
          ]
        },
        {
          "name": "stdout",
          "output_type": "stream",
          "text": [
            "Epoch 33/40, Training Loss: 1.5025\n",
            "Validation Loss: 0.0567\n"
          ]
        },
        {
          "name": "stderr",
          "output_type": "stream",
          "text": [
            "Epoch 34/40: 100%|██████████| 157/157 [02:55<00:00,  1.11s/it, loss=1.78]\n"
          ]
        },
        {
          "name": "stdout",
          "output_type": "stream",
          "text": [
            "Epoch 34/40, Training Loss: 1.4738\n",
            "Validation Loss: 0.0559\n"
          ]
        },
        {
          "name": "stderr",
          "output_type": "stream",
          "text": [
            "Epoch 35/40: 100%|██████████| 157/157 [02:54<00:00,  1.11s/it, loss=1.78]\n"
          ]
        },
        {
          "name": "stdout",
          "output_type": "stream",
          "text": [
            "Epoch 35/40, Training Loss: 1.4784\n",
            "Validation Loss: 0.0530\n"
          ]
        },
        {
          "name": "stderr",
          "output_type": "stream",
          "text": [
            "Epoch 36/40: 100%|██████████| 157/157 [02:55<00:00,  1.11s/it, loss=1.74]\n"
          ]
        },
        {
          "name": "stdout",
          "output_type": "stream",
          "text": [
            "Epoch 36/40, Training Loss: 1.4417\n",
            "Validation Loss: 0.0533\n"
          ]
        },
        {
          "name": "stderr",
          "output_type": "stream",
          "text": [
            "Epoch 37/40: 100%|██████████| 157/157 [02:55<00:00,  1.11s/it, loss=1.71]\n"
          ]
        },
        {
          "name": "stdout",
          "output_type": "stream",
          "text": [
            "Epoch 37/40, Training Loss: 1.4142\n",
            "Validation Loss: 0.0538\n"
          ]
        },
        {
          "name": "stderr",
          "output_type": "stream",
          "text": [
            "Epoch 38/40: 100%|██████████| 157/157 [02:54<00:00,  1.11s/it, loss=1.71]\n"
          ]
        },
        {
          "name": "stdout",
          "output_type": "stream",
          "text": [
            "Epoch 38/40, Training Loss: 1.4152\n",
            "Validation Loss: 0.0521\n"
          ]
        },
        {
          "name": "stderr",
          "output_type": "stream",
          "text": [
            "Epoch 39/40: 100%|██████████| 157/157 [03:54<00:00,  1.50s/it, loss=1.71]\n"
          ]
        },
        {
          "name": "stdout",
          "output_type": "stream",
          "text": [
            "Epoch 39/40, Training Loss: 1.4206\n",
            "Validation Loss: 0.0506\n"
          ]
        },
        {
          "name": "stderr",
          "output_type": "stream",
          "text": [
            "Epoch 40/40: 100%|██████████| 157/157 [04:28<00:00,  1.71s/it, loss=1.71]\n"
          ]
        },
        {
          "name": "stdout",
          "output_type": "stream",
          "text": [
            "Epoch 40/40, Training Loss: 1.4159\n",
            "Validation Loss: 0.0496\n",
            "Trained model saved to C:/Users/xsols/OneDrive/Documents/303/Assignment1/Resnet101\\trained_model.pth\n",
            "Sample predictions saved to C:/Users/xsols/OneDrive/Documents/303/Assignment1/Resnet101\\sample_predictions.csv\n"
          ]
        },
        {
          "data": {
            "image/png": "[encoded data removed]",
            "text/plain": [
              "<Figure size 1000x500 with 1 Axes>"
            ]
          },
          "metadata": {},
          "output_type": "display_data"
        }
      ],
      "source": [
        "import os\n",
        "import torch\n",
        "import csv\n",
        "import torch.nn as nn\n",
        "import torchvision.models as models\n",
        "import torch.optim as optim\n",
        "from torch.utils.tensorboard import SummaryWriter\n",
        "from torchvision import datasets, transforms\n",
        "from torch.utils.data import DataLoader, SubsetRandomSampler\n",
        "from PIL import Image\n",
        "from tqdm import tqdm\n",
        "import random\n",
        "import matplotlib.pyplot as plt\n",
        "\n",
        "# Define the path to the dataset directory\n",
        "dataset_path = 'C:/Users/xsols/OneDrive/Documents/303/Assignment1/Resnet101'\n",
        "\n",
        "# Initialize TensorBoard writer\n",
        "writer = SummaryWriter(log_dir=os.path.join(dataset_path, 'logs'))\n",
        "\n",
        "# Define data transformations for training and validation sets\n",
        "train_transform = transforms.Compose([\n",
        "    transforms.RandomResizedCrop(224),\n",
        "    transforms.RandomHorizontalFlip(),\n",
        "    transforms.ColorJitter(brightness=0.2, contrast=0.2, saturation=0.2, hue=0.1),\n",
        "    transforms.RandomRotation(20),\n",
        "    transforms.RandomVerticalFlip(),  # Add vertical flip augmentation\n",
        "    transforms.RandomAffine(degrees=0, translate=(0.1, 0.1)),  # Add affine transformation\n",
        "    transforms.ToTensor(),\n",
        "    transforms.Normalize(mean=[0.485, 0.456, 0.406], std=[0.229, 0.224, 0.225]),\n",
        "])\n",
        "\n",
        "valid_transform = transforms.Compose([\n",
        "    transforms.Resize(224),  # Increase image resolution\n",
        "    transforms.CenterCrop(224),  # Crop center\n",
        "    transforms.ToTensor(),\n",
        "    transforms.Normalize(mean=[0.485, 0.456, 0.406], std=[0.229, 0.224, 0.225]),  # Normalize\n",
        "])\n",
        "\n",
        "# Define batch size and validation ratio\n",
        "batch_size = 64\n",
        "valid_ratio = 0.1\n",
        "sample_per_class = 100  # Number of samples per class to take\n",
        "\n",
        "# Function to load training and validation data\n",
        "def load_data(batch_size, valid_ratio, sample_per_class):\n",
        "    train_dataset = datasets.ImageFolder(root=os.path.join(dataset_path, 'train'), transform=train_transform)\n",
        "    valid_dataset = datasets.ImageFolder(root=os.path.join(dataset_path, 'train'), transform=valid_transform)\n",
        "\n",
        "    # Select a fixed number of samples from each class for training\n",
        "    train_indices = []\n",
        "    for cls in range(len(train_dataset.classes)):\n",
        "        class_indices = [idx for idx, (_, label) in enumerate(train_dataset.imgs) if label == cls]\n",
        "        train_indices.extend(class_indices[:sample_per_class])\n",
        "\n",
        "    train_loader = DataLoader(train_dataset, batch_size=batch_size, sampler=SubsetRandomSampler(train_indices))\n",
        "\n",
        "    # Splitting the remaining dataset into training and validation sets\n",
        "    num_train = len(train_loader.dataset)\n",
        "    split = int(valid_ratio * num_train)\n",
        "    indices = list(range(num_train))\n",
        "    valid_indices = indices[:split]\n",
        "\n",
        "    valid_loader = DataLoader(valid_dataset, batch_size=batch_size, sampler=SubsetRandomSampler(valid_indices))\n",
        "\n",
        "    return train_loader, valid_loader\n",
        "\n",
        "# Define the ResNet model\n",
        "class DogBreedClassifier(nn.Module):\n",
        "    def __init__(self, num_classes):\n",
        "        super(DogBreedClassifier, self).__init__()\n",
        "        self.resnet = models.resnet101(pretrained=True)\n",
        "        num_ftrs = self.resnet.fc.in_features\n",
        "        self.resnet.fc = nn.Linear(num_ftrs, num_classes)\n",
        "\n",
        "    def forward(self, x):\n",
        "        return self.resnet(x)\n",
        "\n",
        "# Training class\n",
        "class Trainer:\n",
        "    def __init__(self, model, train_loader, valid_loader, lr=0.003, epochs=30):\n",
        "        self.model = model\n",
        "        self.train_loader = train_loader\n",
        "        self.valid_loader = valid_loader\n",
        "        self.lr = lr\n",
        "        self.epochs = epochs\n",
        "        self.criterion = nn.CrossEntropyLoss()\n",
        "        self.optimizer = optim.SGD(self.model.parameters(), lr=self.lr, momentum=0.9, weight_decay=1e-5)\n",
        "        #self.scheduler = optim.lr_scheduler.StepLR(self.optimizer, step_size=7, gamma=0.1)\n",
        "\n",
        "        # Lists to store training and validation losses\n",
        "        self.train_losses = []\n",
        "        self.valid_losses = []\n",
        "\n",
        "    def train(self):\n",
        "        for epoch in range(self.epochs):\n",
        "            self.model.train()\n",
        "            running_loss = 0.0\n",
        "            max_grad_norm = 1.0\n",
        "\n",
        "            progress_bar = tqdm(enumerate(self.train_loader), total=len(self.train_loader))\n",
        "            for batch_idx, (inputs, labels) in progress_bar:\n",
        "                inputs, labels = inputs.to(device), labels.to(device)\n",
        "\n",
        "                self.optimizer.zero_grad()\n",
        "\n",
        "                outputs = self.model(inputs)\n",
        "                loss = self.criterion(outputs, labels)\n",
        "                loss.backward()\n",
        "                torch.nn.utils.clip_grad_norm_(self.model.parameters(), max_grad_norm)\n",
        "                self.optimizer.step()\n",
        "\n",
        "                running_loss += loss.item() * inputs.size(0)\n",
        "\n",
        "                # Update learning rate\n",
        "                #lr = self.scheduler.get_last_lr()[0]\n",
        "\n",
        "                # Update progress bar\n",
        "                progress_bar.set_description(f'Epoch {epoch+1}/{self.epochs}')\n",
        "                progress_bar.set_postfix(loss=running_loss / ((batch_idx + 1) * inputs.size(0)))\n",
        "\n",
        "            epoch_loss = running_loss / len(self.train_loader.dataset)\n",
        "            self.train_losses.append(epoch_loss)\n",
        "            writer.add_scalar('Training Loss', epoch_loss, epoch)\n",
        "\n",
        "            print(f\"Epoch {epoch+1}/{self.epochs}, Training Loss: {epoch_loss:.4f}\")\n",
        "\n",
        "            valid_loss = self.validate()\n",
        "            self.valid_losses.append(valid_loss)\n",
        "            writer.add_scalar('Validation Loss', valid_loss, epoch)\n",
        "\n",
        "            print(f\"Validation Loss: {valid_loss:.4f}\")\n",
        "\n",
        "            #self.scheduler.step()\n",
        "\n",
        "    def validate(self):\n",
        "        self.model.eval()\n",
        "        running_loss = 0.0\n",
        "\n",
        "        with torch.no_grad():\n",
        "            for inputs, labels in self.valid_loader:\n",
        "                inputs, labels = inputs.to(device), labels.to(device)\n",
        "\n",
        "                outputs = self.model(inputs)\n",
        "                loss = self.criterion(outputs, labels)\n",
        "                running_loss += loss.item() * inputs.size(0)\n",
        "\n",
        "            return running_loss / len(self.valid_loader.dataset)\n",
        "\n",
        "# Set device\n",
        "device = torch.device(\"cuda\" if torch.cuda.is_available() else \"cpu\")\n",
        "\n",
        "# Load data\n",
        "train_loader, valid_loader = load_data(batch_size, valid_ratio, sample_per_class)\n",
        "\n",
        "# Number of dog breeds\n",
        "num_classes = 120\n",
        "\n",
        "# Instantiate the model\n",
        "model = DogBreedClassifier(num_classes)\n",
        "model = model.to(device)\n",
        "\n",
        "# Instantiate the trainer\n",
        "trainer = Trainer(model, train_loader, valid_loader, lr=0.001, epochs=40)  # Increase epochs\n",
        "\n",
        "# Train the model\n",
        "trainer.train()\n",
        "\n",
        "# Plot training and validation loss curves\n",
        "plt.figure(figsize=(10, 5))\n",
        "plt.plot(range(1, len(trainer.train_losses) + 1), trainer.train_losses, label='Training Loss')\n",
        "plt.plot(range(1, len(trainer.valid_losses) + 1), trainer.valid_losses, label='Validation Loss')\n",
        "plt.xlabel('Epochs')\n",
        "plt.ylabel('Loss')\n",
        "plt.title('Training and Validation Loss Curves')\n",
        "plt.legend()\n",
        "plt.grid(True)\n",
        "#plt.show()\n",
        "\n",
        "# Close TensorBoard writer\n",
        "writer.close()\n",
        "\n",
        "# Save the trained model\n",
        "save_path = os.path.join(dataset_path, 'trained_model.pth')\n",
        "torch.save(model.state_dict(), save_path)\n",
        "print(f\"Trained model saved to {save_path}\")\n",
        "\n",
        "# Load the trained model\n",
        "model = DogBreedClassifier(num_classes)\n",
        "model.load_state_dict(torch.load(save_path))\n",
        "model = model.to(device)\n",
        "model.eval()\n",
        "\n",
        "# Path to the test folder\n",
        "test_folder = os.path.join(dataset_path, 'test')\n",
        "# Get list of image files in the test folder\n",
        "image_files = [file for file in os.listdir(test_folder) if file.endswith(('jpg', 'jpeg', 'png'))]\n",
        "\n",
        "# Define the number of images to sample\n",
        "#num_samples = 10357\n",
        "# Randomly sample from the list of image files\n",
        "#sample_image_files = random.sample(image_files, num_samples)\n",
        "\n",
        "# Make predictions for each sampled image\n",
        "predictions = []\n",
        "for image_file in image_files:\n",
        "    # Load and preprocess the image\n",
        "    image_path = os.path.join(test_folder, image_file)\n",
        "    image = Image.open(image_path).convert('RGB')\n",
        "    image = valid_transform(image).unsqueeze(0).to(device)  # Use validation transform for test images\n",
        "\n",
        "    # Make prediction\n",
        "    with torch.no_grad():\n",
        "        output = model(image)\n",
        "        probabilities = torch.softmax(output, dim=1).squeeze().cpu().numpy()\n",
        "        predictions.append(probabilities)\n",
        "\n",
        "# Define the list of dog breed names\n",
        "breed_names = [\n",
        "    \"affenpinscher\", \"afghan_hound\", \"african_hunting_dog\", \"airedale\", \"american_staffordshire_terrier\",\n",
        "    \"appenzeller\", \"australian_terrier\", \"basenji\", \"basset\", \"beagle\", \"bedlington_terrier\", \"bernese_mountain_dog\",\n",
        "    \"black-and-tan_coonhound\", \"blenheim_spaniel\", \"bloodhound\", \"bluetick\", \"border_collie\", \"border_terrier\",\n",
        "    \"borzoi\", \"boston_bull\", \"bouvier_des_flandres\", \"boxer\", \"brabancon_griffon\", \"briard\", \"brittany_spaniel\",\n",
        "    \"bull_mastiff\", \"cairn\", \"cardigan\", \"chesapeake_bay_retriever\", \"chihuahua\", \"chow\", \"clumber\", \"cocker_spaniel\",\n",
        "    \"collie\", \"curly-coated_retriever\", \"dandie_dinmont\", \"dhole\", \"dingo\", \"doberman\", \"english_foxhound\",\n",
        "    \"english_setter\", \"english_springer\", \"entlebucher\", \"eskimo_dog\", \"flat-coated_retriever\", \"french_bulldog\",\n",
        "    \"german_shepherd\", \"german_short-haired_pointer\", \"giant_schnauzer\", \"golden_retriever\", \"gordon_setter\",\n",
        "    \"great_dane\", \"great_pyrenees\", \"greater_swiss_mountain_dog\", \"groenendael\", \"ibizan_hound\", \"irish_setter\",\n",
        "    \"irish_terrier\", \"irish_water_spaniel\", \"irish_wolfhound\", \"italian_greyhound\", \"japanese_spaniel\", \"keeshond\",\n",
        "    \"kelpie\", \"kerry_blue_terrier\", \"komondor\", \"kuvasz\", \"labrador_retriever\", \"lakeland_terrier\", \"leonberg\",\n",
        "    \"lhasa\", \"malamute\", \"malinois\", \"maltese_dog\", \"mexican_hairless\", \"miniature_pinscher\", \"miniature_poodle\",\n",
        "    \"miniature_schnauzer\", \"newfoundland\", \"norfolk_terrier\", \"norwegian_elkhound\", \"norwich_terrier\",\n",
        "    \"old_english_sheepdog\", \"otterhound\", \"papillon\", \"pekinese\", \"pembroke\", \"pomeranian\", \"pug\", \"redbone\",\n",
        "    \"rhodesian_ridgeback\", \"rottweiler\", \"saint_bernard\", \"saluki\", \"samoyed\", \"schipperke\", \"scotch_terrier\",\n",
        "    \"scottish_deerhound\", \"sealyham_terrier\", \"shetland_sheepdog\", \"shih-tzu\", \"siberian_husky\", \"silky_terrier\",\n",
        "    \"soft-coated_wheaten_terrier\", \"staffordshire_bullterrier\", \"standard_poodle\", \"standard_schnauzer\",\n",
        "    \"sussex_spaniel\", \"tibetan_mastiff\", \"tibetan_terrier\", \"toy_poodle\", \"toy_terrier\", \"vizsla\", \"walker_hound\",\n",
        "    \"weimaraner\", \"welsh_springer_spaniel\", \"west_highland_white_terrier\", \"whippet\", \"wire-haired_fox_terrier\",\n",
        "    \"yorkshire_terrier\"\n",
        "]\n",
        "\n",
        "# Save predictions to CSV file\n",
        "output_file = os.path.join(dataset_path, 'sample_predictions.csv')\n",
        "with open(output_file, 'w', newline='') as csvfile:\n",
        "    writer = csv.writer(csvfile)\n",
        "    header = ['id'] + breed_names\n",
        "    writer.writerow(header)\n",
        "    for idx, image_file in enumerate(image_files):\n",
        "        image_id = os.path.splitext(image_file)[0]\n",
        "        row = [image_id] + predictions[idx].tolist()\n",
        "        writer.writerow(row)\n",
        "\n",
        "print(f\"Sample predictions saved to {output_file}\")"
      ]
    }
  ],
  "metadata": {
    "colab": {
      "provenance": []
    },
    "kernelspec": {
      "display_name": "Python 3",
      "name": "python3"
    },
    "language_info": {
      "codemirror_mode": {
        "name": "ipython",
        "version": 3
      },
      "file_extension": ".py",
      "mimetype": "text/x-python",
      "name": "python",
      "nbconvert_exporter": "python",
      "pygments_lexer": "ipython3",
      "version": "3.12.2"
    }
  },
  "nbformat": 4,
  "nbformat_minor": 0
}
